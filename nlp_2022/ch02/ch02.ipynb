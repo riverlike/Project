{
  "nbformat": 4,
  "nbformat_minor": 0,
  "metadata": {
    "colab": {
      "name": "ch02.ipynb",
      "provenance": []
    },
    "kernelspec": {
      "name": "python3",
      "display_name": "Python 3"
    },
    "language_info": {
      "name": "python"
    }
  },
  "cells": [
    {
      "cell_type": "code",
      "source": [
        "import numpy as np\n",
        "import matplotlib.pyplot as plt\n"
      ],
      "metadata": {
        "id": "scdXug3NrTgi"
      },
      "execution_count": 26,
      "outputs": []
    },
    {
      "cell_type": "markdown",
      "source": [
        "# 출력문 번역\n",
        "\n",
        "\n",
        "- common/util.py"
      ],
      "metadata": {
        "id": "o_HBykt3qr_L"
      }
    },
    {
      "cell_type": "code",
      "execution_count": 9,
      "metadata": {
        "id": "gFu5YTO5pcXz"
      },
      "outputs": [],
      "source": [
        "# 말뭉치 전처리\n",
        "def preprocess(text):\n",
        "    text = text.lower()\n",
        "    text = text.replace('.', ' .')\n",
        "    words = text.split(' ')\n",
        "\n",
        "    word_to_id = {}\n",
        "    id_to_word = {}\n",
        "    for word in words:\n",
        "        if word not in word_to_id:\n",
        "            new_id = len(word_to_id)\n",
        "            word_to_id[word] = new_id\n",
        "            id_to_word[new_id] = word\n",
        "\n",
        "    corpus = np.array([word_to_id[w] for w in words])\n",
        "\n",
        "    return corpus, word_to_id, id_to_word"
      ]
    },
    {
      "cell_type": "code",
      "source": [
        "text = 'You say goodbye and I say hello.'\n",
        "corpus, word_to_id, id_to_word = preprocess(text)"
      ],
      "metadata": {
        "id": "Z0tPY470rKI4"
      },
      "execution_count": 31,
      "outputs": []
    },
    {
      "cell_type": "code",
      "source": [
        "# 단어 ID 목록\n",
        "corpus"
      ],
      "metadata": {
        "colab": {
          "base_uri": "https://localhost:8080/"
        },
        "id": "fYp_uUinrbZn",
        "outputId": "cbd3122c-9fef-4bdc-a1ed-2131f3db3570"
      },
      "execution_count": 6,
      "outputs": [
        {
          "output_type": "execute_result",
          "data": {
            "text/plain": [
              "array([0, 1, 2, 3, 4, 1, 5, 6])"
            ]
          },
          "metadata": {},
          "execution_count": 6
        }
      ]
    },
    {
      "cell_type": "code",
      "source": [
        "# 단어에서 단어 ID로의 딕셔너리\n",
        "word_to_id"
      ],
      "metadata": {
        "colab": {
          "base_uri": "https://localhost:8080/"
        },
        "id": "ARL1DnpArc_3",
        "outputId": "b5c2a782-2e6f-457c-abd8-9263d9e31bc4"
      },
      "execution_count": 10,
      "outputs": [
        {
          "output_type": "execute_result",
          "data": {
            "text/plain": [
              "{'.': 6, '1': 4, 'and': 3, 'goodbye': 2, 'hello': 5, 'say': 1, 'you': 0}"
            ]
          },
          "metadata": {},
          "execution_count": 10
        }
      ]
    },
    {
      "cell_type": "code",
      "source": [
        "# 단어 ID에서 단어로 딕셔너리\n",
        "id_to_word"
      ],
      "metadata": {
        "colab": {
          "base_uri": "https://localhost:8080/"
        },
        "id": "1_ouztckre7n",
        "outputId": "58b73c24-34f3-402b-fcdb-60648c95e240"
      },
      "execution_count": 11,
      "outputs": [
        {
          "output_type": "execute_result",
          "data": {
            "text/plain": [
              "{0: 'you', 1: 'say', 2: 'goodbye', 3: 'and', 4: '1', 5: 'hello', 6: '.'}"
            ]
          },
          "metadata": {},
          "execution_count": 11
        }
      ]
    },
    {
      "cell_type": "markdown",
      "source": [
        "## 동시발생 행렬(Co-occurrence matrix)\n",
        "- 분포 가설에 기초해 단어를 벡터로 나타내는 방법\n",
        "- 어떤 단어에 주목했을 때, 그 주변에 어떤 단어가 몇 번이나 등장하는지를 세어 집계하는 방법\n"
      ],
      "metadata": {
        "id": "CgGTeEyYrwDn"
      }
    },
    {
      "cell_type": "code",
      "source": [
        "C = np.array([\n",
        "[0, 1, 0, 0, 0, 0, 0],\n",
        "[1, 0, 1, 0, 1, 1, 0],\n",
        "[0, 1, 0, 1, 0, 0, 0],\n",
        "[0, 0, 1, 0, 1, 0, 0],\n",
        "[0, 1, 0, 1, 0, 0, 0],\n",
        "[0, 1, 0, 0, 0, 0, 1],\n",
        "[0, 0, 0, 0, 0, 1, 0],\n",
        "], dtype=np.int32)"
      ],
      "metadata": {
        "id": "SPmm7Tsi3SSC"
      },
      "execution_count": 14,
      "outputs": []
    },
    {
      "cell_type": "markdown",
      "source": [
        "동시발생 행렬을 사용하면 다음과 같은 방식으로 각 단\n",
        "어의 벡터를 얻을 수 있습니다.\n"
      ],
      "metadata": {
        "id": "_B_1SaFm7Ol_"
      }
    },
    {
      "cell_type": "code",
      "source": [
        "print(C[0]) # ID가 0인 단어의 벡터 표현\n",
        "#[0100000]\n",
        "print(C[4]) # ID가 4인 단어의 벡터 표현\n",
        "#[0101000]\n",
        "print(C[word_to_id[ 'goodbye' ]]) # \"goodbye\"의 벡터 표현\n",
        "# \"goodbye\"의 벡터 표현\n",
        "#[0101000]"
      ],
      "metadata": {
        "colab": {
          "base_uri": "https://localhost:8080/"
        },
        "id": "S7q5T8lg7Rc1",
        "outputId": "58164e02-d5eb-40fb-b931-7ac407c2ffd1"
      },
      "execution_count": 15,
      "outputs": [
        {
          "output_type": "stream",
          "name": "stdout",
          "text": [
            "[0 1 0 0 0 0 0]\n",
            "[0 1 0 1 0 0 0]\n",
            "[0 1 0 1 0 0 0]\n"
          ]
        }
      ]
    },
    {
      "cell_type": "code",
      "source": [
        "def create_co_matrix(corpus, vocab_size, window_size=1):\n",
        "    '''동시발생 행렬 생성\n",
        "    :param corpus: 말뭉치(단어 ID 목록)\n",
        "    :param vocab_size: 어휘 수\n",
        "    :param window_size: 윈도우 크기(윈도우 크기가 1이면 타깃 단어 좌우 한 단어씩이 맥락에 포함)\n",
        "    :return: 동시발생 행렬\n",
        "    '''\n",
        "    corpus_size = len(corpus)\n",
        "    co_matrix = np.zeros((vocab_size, vocab_size), dtype=np.int32)\n",
        "\n",
        "    for idx, word_id in enumerate(corpus):\n",
        "        for i in range(1, window_size + 1):\n",
        "            left_idx = idx - i\n",
        "            right_idx = idx + i\n",
        "\n",
        "            if left_idx >= 0:\n",
        "                left_word_id = corpus[left_idx]\n",
        "                co_matrix[word_id, left_word_id] += 1\n",
        "\n",
        "            if right_idx < corpus_size:\n",
        "                right_word_id = corpus[right_idx]\n",
        "                co_matrix[word_id, right_word_id] += 1\n",
        "\n",
        "    return co_matrix"
      ],
      "metadata": {
        "id": "ZNqrGyUr7vgO"
      },
      "execution_count": null,
      "outputs": []
    },
    {
      "cell_type": "markdown",
      "source": [
        "## 벡터 간 유사도\n",
        "단어 벡터의 유사도를 나타낼 때는 코사인 유사도(cosine similarity)를 자주 이용합니다.\n",
        "\n",
        "코사인 유사도를 직관적으로 풀어보자면 •두 벡터가 가리키는 방향이 얼마나 비슷한가’입니다. 두\n",
        "벡터의 방향이 완전히 같다면 코사인 유사도가 1 이 되며, 완전히 반대라면 -1 이 됩니다.\n",
        "\n",
        "```\n",
        "def cos_siinilarity(x, y):\n",
        "    nx = x / np.sqrt(np.s니m(x **2)) # 乂의 정규화\n",
        "    ny = y / np.sqrt(np.sum(y **2) ) # y으I 정규화\n",
        "    return np.dot(nx, ny)\n",
        "```"
      ],
      "metadata": {
        "id": "ZSint1BX7xBE"
      }
    },
    {
      "cell_type": "markdown",
      "source": [
        "인수로 제로 벡터 (원소가 모두 0인 벡터 )가 들어오면\n",
        "‘0으로 나누기divide by zer。’ 오류가 발생해버립니다. \n",
        "\n",
        "작은 값을 뜻하는 eps를 인수로 받도록 하고, 이 인수의 값을 지정"
      ],
      "metadata": {
        "id": "QOrksJ8p8TV8"
      }
    },
    {
      "cell_type": "code",
      "source": [
        "def cos_similarity(x, y, eps=1e-8):\n",
        "    nx = x / (np.sqrt(np.sum(x ** 2)) + eps)\n",
        "    ny = y / (np.sqrt(np.sum(y ** 2)) + eps)\n",
        "    return np.dot(nx, ny)"
      ],
      "metadata": {
        "id": "PR_nbaVT8ZVj"
      },
      "execution_count": 16,
      "outputs": []
    },
    {
      "cell_type": "code",
      "source": [
        "text = 'You say goodbye and I say hello.'\n",
        "corpus, word_to_id, id_to_word = preprocess(text)\n",
        "vocab_size = len(word_to_id)\n",
        "C = create_co_matrix(corpus, vocab_size)\n",
        "c0 = C[word_to_id['you']] # \"you\"의 단어 벡터\n",
        "cl = C[word_to_id['i']] # \"i\"의 단어 벡터\n",
        "\n",
        "print(cos_similarity(c0, cl))"
      ],
      "metadata": {
        "colab": {
          "base_uri": "https://localhost:8080/"
        },
        "id": "OKYbqAb18moD",
        "outputId": "d0247ddf-35a4-4e4d-c529-737258d06bef"
      },
      "execution_count": 17,
      "outputs": [
        {
          "output_type": "stream",
          "name": "stdout",
          "text": [
            "0.7071067691154799\n"
          ]
        }
      ]
    },
    {
      "cell_type": "markdown",
      "source": [
        "실행 결과 “you”와 “『의 코사인 유사도는 0.70...으로 나왔습니다. 코사인 유사도 값은 -1에\n",
        "서 1 사이이므로, 이 값은 비교적 높다(유사성이 크다)고 말할 수 있습니다."
      ],
      "metadata": {
        "id": "vL3slSJI88ij"
      }
    },
    {
      "cell_type": "markdown",
      "source": [
        "## 유사단어의 랭킹 표시\n",
        "어떤 단어가 검색어로 주어지면. 그 검색어와 비슷한 단어를 유사도 순으로 출력하는 함수\n"
      ],
      "metadata": {
        "id": "s76r_vFF8-18"
      }
    },
    {
      "cell_type": "code",
      "source": [
        "def most_similar(query, word_to_id, id_to_word, word_matrix, top=5):\n",
        "    '''유사 단어 검색\n",
        "    :param query: 쿼리(텍스트)\n",
        "    :param word_to_id: 단어에서 단어 ID로 변환하는 딕셔너리\n",
        "    :param id_to_word: 단어 ID에서 단어로 변환하는 딕셔너리\n",
        "    :param word_matrix: 단어 벡터를 정리한 행렬. 각 행에 해당 단어 벡터가 저장되어 있다고 가정한다.\n",
        "    :param top: 상위 몇 개까지 출력할 지 지정\n",
        "    '''\n",
        "    if query not in word_to_id:\n",
        "        print('%s(을)를 찾을 수 없습니다.' % query)\n",
        "        return\n",
        "\n",
        "    print('\\n[query] ' + query)\n",
        "    query_id = word_to_id[query]\n",
        "    query_vec = word_matrix[query_id]\n",
        "\n",
        "    # 코사인 유사도 계산\n",
        "    vocab_size = len(id_to_word)\n",
        "\n",
        "    similarity = np.zeros(vocab_size)\n",
        "    for i in range(vocab_size):\n",
        "        similarity[i] = cos_similarity(word_matrix[i], query_vec)\n",
        "\n",
        "    # 코사인 유사도를 기준으로 내림차순으로 출력\n",
        "    count = 0\n",
        "    for i in (-1 * similarity).argsort():\n",
        "        if id_to_word[i] == query:\n",
        "     \n",
        "            continue\n",
        "        print(' %s: %s' % (id_to_word[i], similarity[i]))\n",
        "\n",
        "        count += 1\n",
        "        if count >= top:\n",
        "            return"
      ],
      "metadata": {
        "id": "o97gI-MY9Yyz"
      },
      "execution_count": 20,
      "outputs": []
    },
    {
      "cell_type": "code",
      "source": [
        "text = 'You say goodbye and I say hello.'\n",
        "corpus, word_to_id, id_to_word = preprocess(text)\n",
        "vocab_size = len(word_to_id)\n",
        "C = create_co_matrix(corpus, vocab_size)\n",
        "c0 = C[word_to_id['you']] # \"you\"의 단어 벡터\n",
        "cl = C[word_to_id['i']] # \"i\"의 단어 벡터\n",
        "\n",
        "most_similar('you', word_to_id, id_to_word, C, top=5)"
      ],
      "metadata": {
        "colab": {
          "base_uri": "https://localhost:8080/"
        },
        "id": "bOaZtqQ_9sqa",
        "outputId": "e7fec58b-64f2-48be-d8d3-82a9dbc73efa"
      },
      "execution_count": 21,
      "outputs": [
        {
          "output_type": "stream",
          "name": "stdout",
          "text": [
            "\n",
            "[query] you\n",
            " goodbye: 0.7071067691154799\n",
            " i: 0.7071067691154799\n",
            " hello: 0.7071067691154799\n",
            " say: 0.0\n",
            " and: 0.0\n"
          ]
        }
      ]
    },
    {
      "cell_type": "markdown",
      "source": [
        "“goodbye”와 “hello”의 코사인 유사도가 높다는 것은\n",
        "우리의 직관과는 거리가 멀죠. 물론 지금은 말뭉치의 크기가 너무 작다는 것이 원인"
      ],
      "metadata": {
        "id": "VDiF1eWs9_IK"
      }
    },
    {
      "cell_type": "markdown",
      "source": [
        "# 통계 기반 기법 개선하기\n",
        "\n",
        "## 상호정보량\n",
        "동시발생 행렬의 원소는 두 단어가 동시에 발생한 횟수를 나타냅니다. 말뭉치에서 “the”와 “car”의 동시발생을 생각해보죠. 분명 the car ...”라는 문구가\n",
        "자주 보일 겁니다. 따라서 두 단어의 동시발생 횟수는 아주 많겠죠. 한편, “car”와 “drive”는확\n",
        "실히 관련이 깊습니다. 하지만 단순히 등장 횟수만을 본다면 “car”는 “drive”보다는 “the”와의\n",
        "관련성이 훨씬 강하다고 나올 겁니다. “the”가 고빈도 단어라서 “car”와 강한 관련성을 갖는다\n",
        "고 평가되기 때문이죠.\n",
        "\n",
        "이 문제를 해결하기 위해 점별 상호정보량P*twiseMumallnf<,mwton [1 이 (pMl) 이라는 척도를 사용한답니다.\n",
        "\n"
      ],
      "metadata": {
        "id": "J_5kjr4U-Bx5"
      }
    },
    {
      "cell_type": "code",
      "source": [
        "def ppmi(C, verbose=False, eps = 1e-8):\n",
        "    '''PPMI(점별 상호정보량) 생성\n",
        "    :param C: 동시발생 행렬\n",
        "    :param verbose: 진행 상황을 출력할지 여부\n",
        "    :return:\n",
        "    '''\n",
        "    M = np.zeros_like(C, dtype=np.float32)\n",
        "    N = np.sum(C)\n",
        "    S = np.sum(C, axis=0)\n",
        "    total = C.shape[0] * C.shape[1]\n",
        "    cnt = 0\n",
        "\n",
        "    for i in range(C.shape[0]):\n",
        "        for j in range(C.shape[1]):\n",
        "            pmi = np.log2(C[i, j] * N / (S[j]*S[i]) + eps)\n",
        "            M[i, j] = max(0, pmi)\n",
        "\n",
        "            if verbose:\n",
        "                cnt += 1\n",
        "                if cnt % (total//100 + 1) == 0:\n",
        "                    print('%.1f%% 완료' % (100*cnt/total))\n",
        "    return M"
      ],
      "metadata": {
        "id": "fumlIvzPHVWP"
      },
      "execution_count": 23,
      "outputs": []
    },
    {
      "cell_type": "code",
      "source": [
        "text = 'You say goodbye and I say hello.'\n",
        "corpus, word_to_id, id_to_word = preprocess(text)\n",
        "vocab_size = len(word_to_id)\n",
        "C = create_co_matrix(corpus, vocab_size)\n",
        "W = ppmi(C)\n",
        "\n",
        "np.set_printoptions(precision=3)  # 유효 자릿수를 세 자리로 표시\n",
        "print('동시발생 행렬')\n",
        "print(C)\n",
        "print('-'*50)\n",
        "print('PPMI')\n",
        "print(W)"
      ],
      "metadata": {
        "colab": {
          "base_uri": "https://localhost:8080/"
        },
        "id": "tX5gw8pPHjUu",
        "outputId": "5e36ecda-442b-473e-bad6-a492c7da9016"
      },
      "execution_count": 24,
      "outputs": [
        {
          "output_type": "stream",
          "name": "stdout",
          "text": [
            "동시발생 행렬\n",
            "[[0 1 0 0 0 0 0]\n",
            " [1 0 1 0 1 1 0]\n",
            " [0 1 0 1 0 0 0]\n",
            " [0 0 1 0 1 0 0]\n",
            " [0 1 0 1 0 0 0]\n",
            " [0 1 0 0 0 0 1]\n",
            " [0 0 0 0 0 1 0]]\n",
            "--------------------------------------------------\n",
            "PPMI\n",
            "[[0.    1.807 0.    0.    0.    0.    0.   ]\n",
            " [1.807 0.    0.807 0.    0.807 0.807 0.   ]\n",
            " [0.    0.807 0.    1.807 0.    0.    0.   ]\n",
            " [0.    0.    1.807 0.    1.807 0.    0.   ]\n",
            " [0.    0.807 0.    1.807 0.    0.    0.   ]\n",
            " [0.    0.807 0.    0.    0.    0.    2.807]\n",
            " [0.    0.    0.    0.    0.    2.807 0.   ]]\n"
          ]
        }
      ]
    },
    {
      "cell_type": "markdown",
      "source": [
        "PPMI 행렬에도 여전히 큰 문제가 있습니다! 말뭉치의 어휘 수가 증가함에 따라 각 단\n",
        "어 벡터의 차원 수도 증가한다는 문제죠. 예를 들어 말뭉치의 어휘 수가 10만 개라면 그 벡터의 차원 수도 똑같이 10만이 됩니다. 10만 차원의 벡터를 다룬다는 것은 그다지 현실적이지 않습니다.\n",
        "\n",
        "또한, 이 행렬의 내용을 들여다보면 원소 대부분이 0인 것을 알 수 있습니다. 벡터의 원소 대부분이 중요하지 않다는 뜻이죠. 다르게 표현하면 각 원소의 ‘중요도’가 낮다는 뜻입 니다. 더구나이런 벡터는 노이즈에 약하고 견고하지 못하다는 약점도 있지요. 이 문제에 대처하고자 자주 수행하는 기법이 바로 벡터의 차원 감소입니다.\n",
        "\n"
      ],
      "metadata": {
        "id": "ygU_n0uiHwV2"
      }
    },
    {
      "cell_type": "markdown",
      "source": [
        "# 차원 감소dimensionality reduction\n",
        "벡터의 차원을 줄이는 방법을 말합니다. 그러나 단순\n",
        "히 줄이기만 하는 게 아니라, ‘중요한 정보’는 최대한 유지하면서 줄이는 게 핵심입니다.\n",
        "\n",
        "차원을 감소시키는 방법은 여 러 가지 입니다만, 우리는 특잇값분해（SVD）를\n",
        "이용하겠습니다.\n",
        "\n",
        "$$ X = USV^T$$"
      ],
      "metadata": {
        "id": "tojtoZZCH5iF"
      }
    },
    {
      "cell_type": "code",
      "source": [
        "text = 'You say goodbye and I say hello.'\n",
        "corpus, word_to_id, id_to_word = preprocess(text)\n",
        "vocab_size = len(id_to_word)\n",
        "C = create_co_matrix(corpus, vocab_size, window_size=1)\n",
        "W = ppmi(C)\n",
        "\n",
        "# SVD\n",
        "U, S, V = np.linalg.svd(W)\n",
        "\n",
        "np.set_printoptions(precision=3)  # 유효 자릿수를 세 자리로 표시\n",
        "print(C[0])\n",
        "print(W[0])\n",
        "print(U[0])\n",
        "\n",
        "# 플롯\n",
        "for word, word_id in word_to_id.items():\n",
        "    plt.annotate(word, (U[word_id, 0], U[word_id, 1]))\n",
        "plt.scatter(U[:,0], U[:,1], alpha=0.5)\n",
        "plt.show()"
      ],
      "metadata": {
        "colab": {
          "base_uri": "https://localhost:8080/",
          "height": 338
        },
        "id": "x3uhzycGId2u",
        "outputId": "1bbe7037-5e52-4c41-e6e7-db855c10e740"
      },
      "execution_count": 27,
      "outputs": [
        {
          "output_type": "stream",
          "name": "stdout",
          "text": [
            "[0 1 0 0 0 0 0]\n",
            "[0.    1.807 0.    0.    0.    0.    0.   ]\n",
            "[ 3.409e-01 -1.110e-16 -1.205e-01 -4.163e-16 -9.323e-01 -1.110e-16\n",
            " -2.426e-17]\n"
          ]
        },
        {
          "output_type": "display_data",
          "data": {
            "image/png": "[encoded data removed]",
            "text/plain": [
              "<Figure size 432x288 with 1 Axes>"
            ]
          },
          "metadata": {
            "needs_background": "light"
          }
        }
      ]
    },
    {
      "cell_type": "markdown",
      "source": [
        "이 밀집벡터의 차원을 감소시키려면, 예컨대 2차워 벡터로 줄이려면 단순히 처음의 두\n",
        "원소를 꺼내면 됩니다."
      ],
      "metadata": {
        "id": "DJbHI6tVJEKW"
      }
    },
    {
      "cell_type": "code",
      "source": [
        "U[0, :2]"
      ],
      "metadata": {
        "colab": {
          "base_uri": "https://localhost:8080/"
        },
        "id": "LjKllcvpI8Ps",
        "outputId": "7ef22f20-0ee4-437d-9fa6-45269d164e3d"
      },
      "execution_count": 28,
      "outputs": [
        {
          "output_type": "execute_result",
          "data": {
            "text/plain": [
              "array([ 3.409e-01, -1.110e-16], dtype=float32)"
            ]
          },
          "metadata": {},
          "execution_count": 28
        }
      ]
    },
    {
      "cell_type": "markdown",
      "source": [
        "계속해서 PTB 데이터셋이라는 더 큰 말뭉\n",
        "치를 사용하여 똑같은 실험을 수행해봅시다.\n",
        "\n",
        "펜 트리뱅크 Penn Treebank (PTB)\n",
        "\n",
        "```\n",
        "PTB 말뭉치는 word2vec의 발명자인 토마스 미콜로프의 웹 페이\n",
        "지에서 받을 수 있습니다. 이 PTB 말뭉치는 텍스트 파일로 제공되며, 원래의 PTB 문장에 몇\n",
        "가지 전처리를 해두었습니다. 예컨대 희소한 단어를〈unk〉라는 특수 문자로 치환한다거나\n",
        "（“link”는 “unknown”의 약어）, 구체적인 숫자를 “N”으로 대체하는 등의 작업이 적용되었습\n",
        "니다.\n",
        "```\n",
        "\n",
        "- PTB 말뭉치（텍스트 파일）의 예\n",
        "\n",
        "```\n",
        "1 consumers may want to move their telephones a little closer to the tv set\n",
        "2 <unk> <unk> watching abc \"s monday night footbail can now vote during <unk> for the greatest play in N years from\n",
        "among four or five <unk> <unk>\n",
        "3 two weeks ago viewers of several nbc <unk> consumer segments started calling a N number for advice on various\n",
        "<unk> issues\n",
        "4 and the new syndicated reality show hard copy records viewers ' opinions for possible airing on the next day's show\n",
        "5 interactive telephone technotogy has taken a new leap in <unk> and television programmers are racing to exploit the\n",
        "possibilities\n",
        "6 eventually viewers may grow <unk> with the technology and <unk> the cost\n",
        "```"
      ],
      "metadata": {
        "id": "MkeEcZAUJSkb"
      }
    },
    {
      "cell_type": "code",
      "source": [
        "import sys\n",
        "sys.path.append('..')\n",
        "import ptb\n",
        "\n",
        "\n",
        "corpus, word_to_id, id_to_word = ptb.load_data('train')\n",
        "\n",
        "print('말뭉치 크기:', len(corpus))\n",
        "print('corpus[:30]:', corpus[:30])\n",
        "print()\n",
        "print('id_to_word[0]:', id_to_word[0])\n",
        "print('id_to_word[1]:', id_to_word[1])\n",
        "print('id_to_word[2]:', id_to_word[2])\n",
        "print()\n",
        "print(\"word_to_id['car']:\", word_to_id['car'])\n",
        "print(\"word_to_id['happy']:\", word_to_id['happy'])\n",
        "print(\"word_to_id['lexus']:\", word_to_id['lexus'])"
      ],
      "metadata": {
        "colab": {
          "base_uri": "https://localhost:8080/"
        },
        "id": "MY-QRu6YI-_4",
        "outputId": "970a75c8-9be6-45fa-f306-ea3b299ecdf2"
      },
      "execution_count": 29,
      "outputs": [
        {
          "output_type": "stream",
          "name": "stdout",
          "text": [
            "Downloading ptb.train.txt ... \n",
            "Done\n",
            "말뭉치 크기: 929589\n",
            "corpus[:30]: [ 0  1  2  3  4  5  6  7  8  9 10 11 12 13 14 15 16 17 18 19 20 21 22 23\n",
            " 24 25 26 27 28 29]\n",
            "\n",
            "id_to_word[0]: aer\n",
            "id_to_word[1]: banknote\n",
            "id_to_word[2]: berlitz\n",
            "\n",
            "word_to_id['car']: 3856\n",
            "word_to_id['happy']: 4428\n",
            "word_to_id['lexus']: 7426\n"
          ]
        }
      ]
    },
    {
      "cell_type": "markdown",
      "source": [
        "## PTB 데이터셋 평가"
      ],
      "metadata": {
        "id": "-eykWu47KdON"
      }
    },
    {
      "cell_type": "code",
      "source": [
        "\n",
        "window_size = 2\n",
        "wordvec_size = 100\n",
        "\n",
        "corpus, word_to_id, id_to_word = ptb.load_data('train')\n",
        "vocab_size = len(word_to_id)\n",
        "print('동시발생 수 계산 ...')\n",
        "C = create_co_matrix(corpus, vocab_size, window_size)\n",
        "print('PPMI 계산 ...')\n",
        "W = ppmi(C, verbose=True)\n",
        "\n",
        "print('calculating SVD ...')\n",
        "try:\n",
        "    # truncated SVD (빠르다!)\n",
        "    from sklearn.utils.extmath import randomized_svd\n",
        "    U, S, V = randomized_svd(W, n_components=wordvec_size, n_iter=5,\n",
        "                             random_state=None)\n",
        "except ImportError:\n",
        "    # SVD (느리다)\n",
        "    U, S, V = np.linalg.svd(W)\n",
        "\n",
        "word_vecs = U[:, :wordvec_size]\n",
        "\n",
        "querys = ['you', 'year', 'car', 'toyota']\n",
        "for query in querys:\n",
        "    most_similar(query, word_to_id, id_to_word, word_vecs, top=5)"
      ],
      "metadata": {
        "colab": {
          "base_uri": "https://localhost:8080/"
        },
        "id": "1sv8Gn81KkjK",
        "outputId": "86b13e89-4867-424f-a8ed-2ee7fdc405ac"
      },
      "execution_count": 30,
      "outputs": [
        {
          "output_type": "stream",
          "name": "stdout",
          "text": [
            "동시발생 수 계산 ...\n",
            "PPMI 계산 ...\n",
            "1.0% 완료\n",
            "2.0% 완료\n",
            "3.0% 완료\n",
            "4.0% 완료\n",
            "5.0% 완료\n",
            "6.0% 완료\n",
            "7.0% 완료\n",
            "8.0% 완료\n",
            "9.0% 완료\n",
            "10.0% 완료\n",
            "11.0% 완료\n",
            "12.0% 완료\n",
            "13.0% 완료\n",
            "14.0% 완료\n",
            "15.0% 완료\n",
            "16.0% 완료\n",
            "17.0% 완료\n",
            "18.0% 완료\n",
            "19.0% 완료\n",
            "20.0% 완료\n",
            "21.0% 완료\n",
            "22.0% 완료\n",
            "23.0% 완료\n",
            "24.0% 완료\n",
            "25.0% 완료\n",
            "26.0% 완료\n",
            "27.0% 완료\n",
            "28.0% 완료\n",
            "29.0% 완료\n",
            "30.0% 완료\n",
            "31.0% 완료\n",
            "32.0% 완료\n",
            "33.0% 완료\n",
            "34.0% 완료\n",
            "35.0% 완료\n",
            "36.0% 완료\n",
            "37.0% 완료\n",
            "38.0% 완료\n",
            "39.0% 완료\n",
            "40.0% 완료\n",
            "41.0% 완료\n",
            "42.0% 완료\n",
            "43.0% 완료\n",
            "44.0% 완료\n",
            "45.0% 완료\n",
            "46.0% 완료\n",
            "47.0% 완료\n",
            "48.0% 완료\n",
            "49.0% 완료\n",
            "50.0% 완료\n",
            "51.0% 완료\n",
            "52.0% 완료\n",
            "53.0% 완료\n",
            "54.0% 완료\n",
            "55.0% 완료\n",
            "56.0% 완료\n",
            "57.0% 완료\n",
            "58.0% 완료\n",
            "59.0% 완료\n",
            "60.0% 완료\n",
            "61.0% 완료\n",
            "62.0% 완료\n",
            "63.0% 완료\n",
            "64.0% 완료\n",
            "65.0% 완료\n",
            "66.0% 완료\n",
            "67.0% 완료\n",
            "68.0% 완료\n",
            "69.0% 완료\n",
            "70.0% 완료\n",
            "71.0% 완료\n",
            "72.0% 완료\n",
            "73.0% 완료\n",
            "74.0% 완료\n",
            "75.0% 완료\n",
            "76.0% 완료\n",
            "77.0% 완료\n",
            "78.0% 완료\n",
            "79.0% 완료\n",
            "80.0% 완료\n",
            "81.0% 완료\n",
            "82.0% 완료\n",
            "83.0% 완료\n",
            "84.0% 완료\n",
            "85.0% 완료\n",
            "86.0% 완료\n",
            "87.0% 완료\n",
            "88.0% 완료\n",
            "89.0% 완료\n",
            "90.0% 완료\n",
            "91.0% 완료\n",
            "92.0% 완료\n",
            "93.0% 완료\n",
            "94.0% 완료\n",
            "95.0% 완료\n",
            "96.0% 완료\n",
            "97.0% 완료\n",
            "98.0% 완료\n",
            "99.0% 완료\n",
            "calculating SVD ...\n",
            "\n",
            "[query] you\n",
            " i: 0.6486228108406067\n",
            " we: 0.607466459274292\n",
            " anybody: 0.5666030049324036\n",
            " someone: 0.5496214032173157\n",
            " do: 0.5494204759597778\n",
            "\n",
            "[query] year\n",
            " month: 0.6738330125808716\n",
            " quarter: 0.649309515953064\n",
            " february: 0.616348385810852\n",
            " earlier: 0.5977563858032227\n",
            " last: 0.5940619111061096\n",
            "\n",
            "[query] car\n",
            " auto: 0.6093103885650635\n",
            " luxury: 0.5752543807029724\n",
            " domestic: 0.5368098020553589\n",
            " truck: 0.535513699054718\n",
            " cars: 0.5081255435943604\n",
            "\n",
            "[query] toyota\n",
            " motor: 0.7257694005966187\n",
            " mazda: 0.6679793000221252\n",
            " motors: 0.6394745111465454\n",
            " honda: 0.6344643235206604\n",
            " nissan: 0.6095301508903503\n"
          ]
        }
      ]
    }
  ]
}