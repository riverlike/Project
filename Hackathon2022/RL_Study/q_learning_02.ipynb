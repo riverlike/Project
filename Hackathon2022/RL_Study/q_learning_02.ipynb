{
  "nbformat": 4,
  "nbformat_minor": 0,
  "metadata": {
    "colab": {
      "name": "q_learning_02.ipynb",
      "provenance": [],
      "toc_visible": true,
      "collapsed_sections": []
    },
    "kernelspec": {
      "name": "python3",
      "display_name": "Python 3"
    },
    "language_info": {
      "name": "python"
    }
  },
  "cells": [
    {
      "cell_type": "markdown",
      "source": [
        "# Q-learning exploit&exploration and discounted reward\n"
      ],
      "metadata": {
        "id": "0hZRIilu7vzi"
      }
    },
    {
      "cell_type": "markdown",
      "source": [
        "### Q-learning의 한계\n",
        "\n",
        "- Exploit 만을 활용하는 문제\n",
        "케이스에 따라(random하게 움직임을 선택) 성공률이 80%가까이 떨어지는 경우도 발생한다.  한번 발견한 길을 계속 유지하여 최단 거리로 갈수 있는 방법이 있지만 경험을 유지하는 알고리즘의 문제로 다른 더 좋은 방법을 찾지 못한다.\n",
        "\n",
        "![ㅇ](https://img1.daumcdn.net/thumb/R1280x0/?scode=mtistory2&fname=https%3A%2F%2Fblog.kakaocdn.net%2Fdn%2FsVvPR%2FbtrAssBiz21%2F79W6i9Lz47N9I8ofqrMVz1%2Fimg.png)\n",
        "\n",
        "- 더 경로를 찾기 위한 방법을 찾는법 ->  Exploration 필요\n",
        "\n"
      ],
      "metadata": {
        "id": "rNzPlQhG7Udz"
      }
    },
    {
      "cell_type": "code",
      "source": [
        "import numpy as np\n",
        "import matplotlib.pyplot as plt\n",
        "import random\n",
        "import gym\n",
        "from gym.envs.registration import register"
      ],
      "metadata": {
        "id": "aexofKvhCUzT"
      },
      "execution_count": 49,
      "outputs": []
    },
    {
      "cell_type": "code",
      "source": [
        "#환경 변수\n",
        "IDX_ACTION_UP = 0\n",
        "IDX_ACTION_DOWN = 1\n",
        "IDX_ACTION_RIGHT = 2\n",
        "IDX_ACTION_LEFT = 3\n",
        "\n",
        "STR_ACTION_UP = 'U'\n",
        "STR_ACTION_DOWN = 'D'\n",
        "STR_ACTION_RIGHT = 'R'\n",
        "STR_ACTION_LEFT = 'L'\n",
        "\n",
        "ENV_ID = 'FrozenLake-v3'\n",
        "NUM_EPISODES = 2000\n",
        "\n",
        "# 환경 등록\n",
        "def get_env_register(env_id):\n",
        "    env_dict = gym.envs.registry.env_specs.copy()\n",
        " \n",
        "    for env in env_dict:\n",
        "        if env_id in env:\n",
        "            print('Remove {} from registry'.format(env))\n",
        "            del gym.envs.registry.env_specs[env]   \n",
        "\n",
        "    register(\n",
        "        id=env_id,\n",
        "        entry_point='gym.envs.toy_text:FrozenLakeEnv',\n",
        "        kwargs={'map_name': '4x4',\n",
        "                'is_slippery': False}\n",
        "    )\n",
        "    \n",
        "    env = gym.make(env_id)\n",
        "\n",
        "    return env\n",
        "\n",
        "# Q-table 시각화\n",
        "def print_str_direct(q_value):\n",
        "    cnt = 0\n",
        "    while cnt < len(q_value):\n",
        "        txt = ''\n",
        "        for _ in range(4):\n",
        "            # q-value가 실수인 경우 보완\n",
        "            q = ''.join([str(int(round(e, 0))) for e in q_value[cnt]])\n",
        "            if q == '1000':\n",
        "                txt += STR_ACTION_UP\n",
        "            elif q == '0100':\n",
        "                txt += STR_ACTION_DOWN\n",
        "            elif q == '0010':\n",
        "                txt += STR_ACTION_RIGHT\n",
        "            elif q == '0001':\n",
        "                txt += STR_ACTION_LEFT\n",
        "            else:\n",
        "                txt += ' '\n",
        "            txt += ' | '\n",
        "            cnt += 1\n",
        "        print(txt)    \n",
        "\n",
        "def print_q_table(q_value):\n",
        "    print('-'*50)\n",
        "    print(\"Final Q-Table Values\")\n",
        "    print('-'*50)\n",
        "    print('state | U   D   R   L')\n",
        "    print(q_value)\n"
      ],
      "metadata": {
        "id": "trsAC8ZiCWUz"
      },
      "execution_count": 50,
      "outputs": []
    },
    {
      "cell_type": "markdown",
      "source": [
        "### Exploit & Exploration\n",
        "기존의 Q-leaning의 방법을 유지(Exploit)하면서도 다른 좋은 경로를 찾기위해 탐험(Exploration)을 시도할 수 있도록 알고리즘을 개선한 방법\n",
        "\n",
        "1. Decaying E-greedy\n",
        "2. Add random noise \n",
        "3. Discounted future reward\n",
        "\n"
      ],
      "metadata": {
        "id": "UDuRtXjg7l9a"
      }
    },
    {
      "cell_type": "markdown",
      "source": [
        "## Decaying E-greedy\n",
        "- 학습초기에는 탐험을 많이하고 뒤로 갈수록 경험을 활용하도록 e 값을 줄여줌 \n",
        "- e값(0.1)이라면 10%만큼 랜덤하게 탐험을 많이하다가 e값을 계속 decay시킴\n",
        " ```\n",
        " for i in range(1000)\n",
        "   e = 0.1 /(i+1)\n",
        "   if random(1)<e:\n",
        "     a = random\n",
        "   else:\n",
        "     a = argmax(Q(s,a))\n",
        " ```\n",
        "\n",
        " \n",
        " "
      ],
      "metadata": {
        "id": "CjK96_zs_YKP"
      }
    },
    {
      "cell_type": "code",
      "source": [
        "# Q-learning algorithm with Decaying E-greedy\n",
        "def do_qlearning_decay_egreedy(env, num_episodes):\n",
        "    q_value = np.zeros([env.observation_space.n, env.action_space.n])\n",
        "    print('q_value shale:', q_value.shape)\n",
        "\n",
        "    rList = []\n",
        "    cntList = []   \n",
        "\n",
        "    for i in range(num_episodes):\n",
        "        state = env.reset() \n",
        "        rAll = 0 \n",
        "        done = False\n",
        "        action_cnt = 0\n",
        "\n",
        "        # exploration의 확률 (decaying)\n",
        "        e = 1./((i // 100) + 1)\n",
        "\n",
        "        while not done:            \n",
        "            # E-Greedy 알고리즘으로 action 고르기\n",
        "            if np.random.uniform(0, 1) < e:\n",
        "                action = env.action_space.sample()\n",
        "            else : \n",
        "                action = np.argmax(q_value[state, :])\n",
        "\n",
        "            new_state, reward, done, _ = env.step(action)\n",
        "            \n",
        "            q_value[state, action] = reward + np.max(q_value[new_state, :])\n",
        "            \n",
        "            rAll += reward\n",
        "            action_cnt +=1\n",
        "            state = new_state\n",
        "\n",
        "        rList.append(rAll)\n",
        "        cntList.append(action_cnt)\n",
        "\n",
        "    return q_value, rList, cntList"
      ],
      "metadata": {
        "id": "hvfbGErdOtpu"
      },
      "execution_count": 53,
      "outputs": []
    },
    {
      "cell_type": "code",
      "source": [
        "env = get_env_register(ENV_ID)\n",
        "\n",
        "q_value, rList, cntList = do_qlearning_decay_egreedy(env, NUM_EPISODES)\n",
        "print(q_value)\n",
        "\n",
        "print(\"Success rate: \" + str(sum(rList) / NUM_EPISODES))\n",
        "print(\"Success average action : \" + str(sum(cntList) / NUM_EPISODES)) # 평균 액션 횟수\n",
        "plt.bar(range(len(rList)), rList, color=\"blue\")\n",
        "plt.show()"
      ],
      "metadata": {
        "colab": {
          "base_uri": "https://localhost:8080/",
          "height": 632
        },
        "id": "Rl39u24vPYFP",
        "outputId": "addd8199-5483-40d3-943f-38621e3629f3"
      },
      "execution_count": 54,
      "outputs": [
        {
          "output_type": "stream",
          "name": "stdout",
          "text": [
            "Remove FrozenLake-v3 from registry\n",
            "q_value shale: (16, 4)\n",
            "[[1. 1. 1. 1.]\n",
            " [1. 0. 1. 1.]\n",
            " [1. 1. 1. 1.]\n",
            " [1. 0. 1. 1.]\n",
            " [1. 1. 0. 1.]\n",
            " [0. 0. 0. 0.]\n",
            " [0. 1. 0. 1.]\n",
            " [0. 0. 0. 0.]\n",
            " [1. 0. 1. 1.]\n",
            " [1. 1. 1. 0.]\n",
            " [1. 1. 0. 1.]\n",
            " [0. 0. 0. 0.]\n",
            " [0. 0. 0. 0.]\n",
            " [0. 1. 1. 1.]\n",
            " [1. 1. 1. 1.]\n",
            " [0. 0. 0. 0.]]\n",
            "Success rate: 0.0045\n",
            "Success average action : 108.9975\n"
          ]
        },
        {
          "output_type": "display_data",
          "data": {
            "text/plain": [
              "<Figure size 432x288 with 1 Axes>"
            ],
            "image/png": "[encoded data removed]"
          },
          "metadata": {
            "needs_background": "light"
          }
        }
      ]
    },
    {
      "cell_type": "markdown",
      "source": [
        "### Q-value가 같은 값일때의 한계 \n",
        "알고리즘에서 탐험을 반영하였지만 Exploit 정보와 Exploration 정보가 뒤섞여 agent가 판단을 잘 못하고있다. \n",
        "\n",
        " - Q-value : Action을 하게될 때 받는 미래의 보상으로 더 좋은 선택하기에 정보가 부족하다.\n",
        " - 1번 길과 2번 길중 어느 길이 좋은지 판단할 수 없다.\n",
        " \n",
        "![ㅇ](https://img1.daumcdn.net/thumb/R1280x0/?scode=mtistory2&fname=https%3A%2F%2Fblog.kakaocdn.net%2Fdn%2FdoLtpB%2FbtrAuMsgezH%2FtDO9b2jOptCnQgZua6uZ91%2Fimg.png)\n"
      ],
      "metadata": {
        "id": "xYATCx6HPeho"
      }
    },
    {
      "cell_type": "markdown",
      "source": [
        "## Discounted future reward\n",
        "\n",
        " - 보상은 유지하고, q-value은 감쇠인자(Discounted factor)를 곱해 줄여준다.\n",
        "\n",
        "![ㅇ](https://img1.daumcdn.net/thumb/R1280x0/?scode=mtistory2&fname=https%3A%2F%2Fblog.kakaocdn.net%2Fdn%2Fd4DyR6%2FbtrAqsBCztT%2FyiOh1HkAch7sxrwuOkQJh1%2Fimg.png)\n"
      ],
      "metadata": {
        "id": "xlrFqTu4Rkdu"
      }
    },
    {
      "cell_type": "markdown",
      "source": [
        "S10의 상태에서 어느 길이 좋은지 선택이 가능하다.\n",
        "\n",
        "미래 보상이 더큰쪽으로 action down(주황색)을 행하면될것이다.\n",
        "\n",
        "- ramma = 0.9일때 S10 state 일 때 action별 reward계산 \n",
        " - action down 일때 $R_t = 0 + 0.9*(1)$\n",
        " - action left 일때 $R_t = 0 + 0.9*(0+0.9*(0+0.9) = 0.729$\n",
        "\n",
        "\n",
        "![ㅇ](https://img1.daumcdn.net/thumb/R1280x0/?scode=mtistory2&fname=https%3A%2F%2Fblog.kakaocdn.net%2Fdn%2FegTvTy%2FbtrAp5NVoq8%2Fm9OHit1MeIYz6Z6XMkjmI0%2Fimg.png)\n",
        "\n"
      ],
      "metadata": {
        "id": "sELu7De0RuG7"
      }
    },
    {
      "cell_type": "code",
      "source": [
        "# Q-learning algorithm with Decaying E-greedy\n",
        "def do_qlearning_decay_egreedy(env, num_episodes):\n",
        "    q_value = np.zeros([env.observation_space.n, env.action_space.n])\n",
        "    print('q_value shale:', q_value.shape)\n",
        "\n",
        "    rList = []\n",
        "    cntList = []   \n",
        "\n",
        "    dis = 0.99\n",
        "\n",
        "    for i in range(num_episodes):\n",
        "        state = env.reset() \n",
        "        rAll = 0 \n",
        "        done = False\n",
        "        action_cnt = 0\n",
        "\n",
        "        # exploration의 확률 (decaying)\n",
        "        e = 1./((i // 100) + 1)\n",
        "\n",
        "        while not done:            \n",
        "            # E-Greedy 알고리즘으로 action 고르기\n",
        "            if np.random.uniform(0, 1) < e:\n",
        "                action = env.action_space.sample()\n",
        "            else : \n",
        "                action = np.argmax(q_value[state, :])\n",
        "\n",
        "            new_state, reward, done, _ = env.step(action)\n",
        "            \n",
        "            q_value[state, action] = reward + dis * np.max(q_value[new_state, :])\n",
        "            \n",
        "            rAll += reward\n",
        "            action_cnt +=1\n",
        "            state = new_state\n",
        "\n",
        "        rList.append(rAll)\n",
        "        cntList.append(action_cnt)\n",
        "\n",
        "    return q_value, rList, cntList"
      ],
      "metadata": {
        "id": "AHDMZJBSCpvb"
      },
      "execution_count": 56,
      "outputs": []
    },
    {
      "cell_type": "code",
      "source": [
        "env = get_env_register(ENV_ID)\n",
        "\n",
        "q_value, rList, cntList = do_qlearning_decay_egreedy(env, NUM_EPISODES)\n",
        "print(q_value)\n",
        "\n",
        "print(\"Success rate: \" + str(sum(rList) / NUM_EPISODES))\n",
        "print(\"Success average action : \" + str(sum(cntList) / NUM_EPISODES)) # 평균 액션 횟수\n",
        "plt.bar(range(len(rList)), rList, color=\"blue\")\n",
        "plt.show()"
      ],
      "metadata": {
        "colab": {
          "base_uri": "https://localhost:8080/",
          "height": 632
        },
        "id": "LHVYMO1ZC8pj",
        "outputId": "b9f0ffa5-cdd8-44f3-c2a5-8503400934a2"
      },
      "execution_count": 57,
      "outputs": [
        {
          "output_type": "stream",
          "name": "stdout",
          "text": [
            "Remove FrozenLake-v3 from registry\n",
            "q_value shale: (16, 4)\n",
            "[[0.94148015 0.95099005 0.95099005 0.94148015]\n",
            " [0.94148015 0.         0.96059601 0.95099005]\n",
            " [0.95099005 0.970299   0.91351725 0.96059601]\n",
            " [0.92274469 0.         0.         0.91351725]\n",
            " [0.95099005 0.96059601 0.         0.94148015]\n",
            " [0.         0.         0.         0.        ]\n",
            " [0.         0.9801     0.         0.96059601]\n",
            " [0.         0.         0.         0.        ]\n",
            " [0.96059601 0.         0.970299   0.95099005]\n",
            " [0.96059601 0.9801     0.9801     0.        ]\n",
            " [0.970299   0.99       0.         0.970299  ]\n",
            " [0.         0.         0.         0.        ]\n",
            " [0.         0.         0.         0.        ]\n",
            " [0.         0.9801     0.99       0.970299  ]\n",
            " [0.9801     0.99       1.         0.9801    ]\n",
            " [0.         0.         0.         0.        ]]\n",
            "Success rate: 0.8245\n",
            "Success average action : 6.432\n"
          ]
        },
        {
          "output_type": "display_data",
          "data": {
            "text/plain": [
              "<Figure size 432x288 with 1 Axes>"
            ],
            "image/png": "[encoded data removed]"
          },
          "metadata": {
            "needs_background": "light"
          }
        }
      ]
    },
    {
      "cell_type": "markdown",
      "source": [
        "discounted factor를 적용하였지만 e-Greedy는 기존 q-value(학습데이터)에 근거하지 않고 랜덤으로만 진행한 횟수가 많아서 성공 확률이 떨어진다. 탐험도 하면서 기존에 경험도 반영하여 시행착오를 좀 줄 일 수 있게 개선한 방식이 **Add random noise**방식이다.\n",
        "\n",
        "- cf. route출력\n",
        "> Exploration을 진행하여 q-value의 확률이 4가지 action에 고르게 분포하게되어 최적경로를 나타내지 못하였다. 이부분은 보완이 필요하겠다."
      ],
      "metadata": {
        "id": "V-ve-9_cG2SP"
      }
    },
    {
      "cell_type": "code",
      "source": [
        "#최종 route 출력\n",
        "print_str_direct(q_value)"
      ],
      "metadata": {
        "colab": {
          "base_uri": "https://localhost:8080/"
        },
        "id": "K5psI0yqF0hW",
        "outputId": "8db4124b-6fa3-4cc2-8310-d7aeb7ed9beb"
      },
      "execution_count": 58,
      "outputs": [
        {
          "output_type": "stream",
          "name": "stdout",
          "text": [
            "  |   |   |   | \n",
            "  |   |   |   | \n",
            "  |   |   |   | \n",
            "  |   |   |   | \n"
          ]
        }
      ]
    },
    {
      "cell_type": "markdown",
      "source": [
        "## Add random noise\n",
        "- 고정적인 Q value에 random값을 더하여 경험하도록한다.\n",
        "- Decaying E-greedy 방식보다 경험에 의거하여 랜덤한 활동을 하게한다. 즉, 탐험시 경험도 활용하게 하여 효율을 높인다. \n",
        "- 역시 경험횟수가 늘수록 탐험율을 줄임.\n",
        " ```\n",
        " for i in range(1000)\n",
        "   a = argmax(Q(s,a) + random_value/(i+1))\n",
        " ```"
      ],
      "metadata": {
        "id": "ejmOBL6x_Z71"
      }
    },
    {
      "cell_type": "code",
      "source": [
        "# Q-learning algorithm with random noise\n",
        "def do_qlearning_add_noise(env, num_episodes):\n",
        "    q_value = np.zeros([env.observation_space.n, env.action_space.n])\n",
        "    print('q_value shale:', q_value.shape)\n",
        "\n",
        "    rList = []\n",
        "    cntList = []   \n",
        "\n",
        "    dis = 0.99\n",
        "\n",
        "    for i in range(num_episodes):\n",
        "        state = env.reset() \n",
        "        rAll = 0 \n",
        "        done = False\n",
        "        action_cnt = 0\n",
        "\n",
        "        # exploration의 확률 (decaying)\n",
        "        e = 1./((i // 100) + 1)\n",
        "\n",
        "        while not done:            \n",
        "            action = np.argmax(q_value[state, :] + np.random.randn(1, env.action_space.n) / (i+1)) \n",
        "\n",
        "            new_state, reward, done, _ = env.step(action)\n",
        "            \n",
        "            q_value[state, action] = reward + dis * np.max(q_value[new_state, :])\n",
        "            \n",
        "            rAll += reward\n",
        "            action_cnt +=1\n",
        "            state = new_state\n",
        "\n",
        "        rList.append(rAll)\n",
        "        cntList.append(action_cnt)\n",
        "\n",
        "    return q_value, rList, cntList"
      ],
      "metadata": {
        "id": "EgVDZfUBGP-m"
      },
      "execution_count": 61,
      "outputs": []
    },
    {
      "cell_type": "code",
      "source": [
        "env = get_env_register(ENV_ID)\n",
        "q_value, rList, cntList = do_qlearning_add_noise(env, NUM_EPISODES)\n",
        "\n",
        "print(\"Success rate: \" + str(sum(rList) / NUM_EPISODES))\n",
        "print(\"Success average action : \" + str(sum(cntList) / NUM_EPISODES)) # 평균 액션 횟수\n",
        "plt.bar(range(len(rList)), rList, color=\"blue\")\n",
        "plt.show()"
      ],
      "metadata": {
        "colab": {
          "base_uri": "https://localhost:8080/",
          "height": 338
        },
        "id": "H1wNlnoHGv4m",
        "outputId": "8178edd5-272e-4f75-9c78-5b955c7ff1f9"
      },
      "execution_count": 62,
      "outputs": [
        {
          "output_type": "stream",
          "name": "stdout",
          "text": [
            "Remove FrozenLake-v3 from registry\n",
            "q_value shale: (16, 4)\n",
            "Success rate: 0.975\n",
            "Success average action : 6.0385\n"
          ]
        },
        {
          "output_type": "display_data",
          "data": {
            "text/plain": [
              "<Figure size 432x288 with 1 Axes>"
            ],
            "image/png": "[encoded data removed]"
          },
          "metadata": {
            "needs_background": "light"
          }
        }
      ]
    },
    {
      "cell_type": "code",
      "source": [
        "#최종 route 출력\n",
        "print_str_direct(q_value)"
      ],
      "metadata": {
        "colab": {
          "base_uri": "https://localhost:8080/"
        },
        "id": "xfMEmO1oIZ5I",
        "outputId": "b9e318f1-1a35-40bd-a327-d16f52194974"
      },
      "execution_count": null,
      "outputs": [
        {
          "output_type": "stream",
          "name": "stdout",
          "text": [
            "D |   |   |   | \n",
            "D |   |   |   | \n",
            "R | D |   |   | \n",
            "  | R | R |   | \n"
          ]
        }
      ]
    },
    {
      "cell_type": "code",
      "source": [
        "env = get_env_register(ENV_ID)\n",
        "q_value, rList, cntList = do_qlearning_add_noise(env, NUM_EPISODES)\n",
        "\n",
        "print(\"Success rate: \" + str(sum(rList) / NUM_EPISODES))\n",
        "print(\"Success average action : \" + str(sum(cntList) / NUM_EPISODES)) # 평균 액션 횟수\n",
        "plt.bar(range(len(rList)), rList, color=\"blue\")\n",
        "plt.show()"
      ],
      "metadata": {
        "colab": {
          "base_uri": "https://localhost:8080/",
          "height": 320
        },
        "id": "jpxFk04jIYjF",
        "outputId": "c346dd56-6604-4976-a401-d75660829ce4"
      },
      "execution_count": null,
      "outputs": [
        {
          "output_type": "stream",
          "name": "stdout",
          "text": [
            "Remove FrozenLake-v3 from registry\n",
            "Success rate: 0.9365\n",
            "Success average action : 6.0985\n"
          ]
        },
        {
          "output_type": "display_data",
          "data": {
            "text/plain": [
              "<Figure size 432x288 with 1 Axes>"
            ],
            "image/png": "[encoded data removed]"
          },
          "metadata": {
            "needs_background": "light"
          }
        }
      ]
    },
    {
      "cell_type": "code",
      "source": [
        "#최종 route 출력\n",
        "print_str_direct(q_value)"
      ],
      "metadata": {
        "colab": {
          "base_uri": "https://localhost:8080/"
        },
        "id": "-YuezkF1G3wV",
        "outputId": "f0b2d9ee-73f1-4708-e61f-d9af17760843"
      },
      "execution_count": null,
      "outputs": [
        {
          "output_type": "stream",
          "name": "stdout",
          "text": [
            "D |   | D |   | \n",
            "D |   | D |   | \n",
            "R | D | D |   | \n",
            "  | R | R |   | \n"
          ]
        }
      ]
    },
    {
      "cell_type": "code",
      "source": [
        "q_value"
      ],
      "metadata": {
        "colab": {
          "base_uri": "https://localhost:8080/"
        },
        "id": "-SoP2BGbIl5j",
        "outputId": "3afbc101-c427-4e85-ac30-7ecca394fcf1"
      },
      "execution_count": null,
      "outputs": [
        {
          "output_type": "execute_result",
          "data": {
            "text/plain": [
              "array([[0., 1., 0., 0.],\n",
              "       [0., 0., 0., 0.],\n",
              "       [0., 1., 0., 0.],\n",
              "       [0., 0., 0., 0.],\n",
              "       [0., 1., 0., 0.],\n",
              "       [0., 0., 0., 0.],\n",
              "       [0., 1., 0., 0.],\n",
              "       [0., 0., 0., 0.],\n",
              "       [0., 0., 1., 0.],\n",
              "       [0., 1., 0., 0.],\n",
              "       [0., 1., 0., 0.],\n",
              "       [0., 0., 0., 0.],\n",
              "       [0., 0., 0., 0.],\n",
              "       [0., 0., 1., 0.],\n",
              "       [0., 0., 1., 0.],\n",
              "       [0., 0., 0., 0.]])"
            ]
          },
          "metadata": {},
          "execution_count": 36
        }
      ]
    },
    {
      "cell_type": "markdown",
      "source": [
        ""
      ],
      "metadata": {
        "id": "GpQn7RqH_ylt"
      }
    },
    {
      "cell_type": "code",
      "execution_count": null,
      "metadata": {
        "id": "uBZTHo396BzM"
      },
      "outputs": [],
      "source": [
        "# Q-learning algorithm with discounted future reward\n",
        "def do_qlearning_discounted_reward(env, num_episodes):\n",
        "    \n",
        "    # Q Table을 모두 0으로 초기화 한다. : 2차원 (number of state, action space) = (16,4)\n",
        "    Q = np.zeros([env.observation_space.n, env.action_space.n])\n",
        "\n",
        "    # discount 정의 => 미래의 reward를 현재의 reward 보다 조금 낮게 본다.\n",
        "    dis = 0.99\n",
        "\n",
        "    # 몇 번 시도를 할 것인가 (에피소드)\n",
        "    num_episodes = 2000\n",
        "\n",
        "    # 에피소드마다 총 리워드의 합을 저장하는 리스트\n",
        "    rList = []\n",
        "    cntList = [] \n",
        "\n",
        "    for i in range(num_episodes) : \n",
        "        state = env.reset()\n",
        "        rAll = 0\n",
        "        done = False\n",
        "        action_cnt = 0\n",
        "        \n",
        "        while not done :            \n",
        "            action = np.argmax(Q[state, :] + np.random.randn(1, env.action_space.n) / (i+1)) \n",
        "            \n",
        "            # 해당 Action을 했을 때 environment가 변하고, 새로운 state, reward, done 여부를 반환 받음\n",
        "            new_state, reward, done, _ = env.step(action)\n",
        "            \n",
        "            # Q = R + Q \n",
        "            Q[state, action] = reward + dis * np.max(Q[new_state, :])\n",
        "            \n",
        "            rAll += reward\n",
        "            action_cnt +=1\n",
        "            state = new_state\n",
        "            \n",
        "        rList.append(rAll)\n",
        "        cntList.append(action_cnt)\n",
        "\n",
        "    return Q, rList, cntList"
      ]
    },
    {
      "cell_type": "code",
      "source": [
        "env = get_env_register(ENV_ID)\n",
        "q_value, rList, cntList = do_qlearning_discounted_reward(env, NUM_EPISODES)\n",
        "\n",
        "print(\"Success rate: \" + str(sum(rList) / NUM_EPISODES))\n",
        "print(\"Success average action : \" + str(sum(cntList) / NUM_EPISODES)) # 평균 액션 횟수\n",
        "\n",
        "#최종 route 출력\n",
        "print_str_direct(q_value)\n",
        "plt.bar(range(len(rList)), rList, color=\"blue\")\n",
        "plt.show()"
      ],
      "metadata": {
        "colab": {
          "base_uri": "https://localhost:8080/",
          "height": 394
        },
        "id": "BCbS-QvXJlqL",
        "outputId": "5cda8e43-3b98-40b2-8a36-891263f51784"
      },
      "execution_count": null,
      "outputs": [
        {
          "output_type": "stream",
          "name": "stdout",
          "text": [
            "Remove FrozenLake-v3 from registry\n",
            "Success rate: 0.9045\n",
            "Success average action : 6.156\n",
            "D |   |   |   | \n",
            "D |   |   |   | \n",
            "R | D |   |   | \n",
            "  | R | R |   | \n"
          ]
        },
        {
          "output_type": "display_data",
          "data": {
            "text/plain": [
              "<Figure size 432x288 with 1 Axes>"
            ],
            "image/png": "[encoded data removed]"
          },
          "metadata": {
            "needs_background": "light"
          }
        }
      ]
    },
    {
      "cell_type": "code",
      "source": [
        "env = get_env_register(ENV_ID)\n",
        "q_value, rList, cntList = do_qlearning_discounted_reward(env, NUM_EPISODES)\n",
        "\n",
        "print(\"Success rate: \" + str(sum(rList) / NUM_EPISODES))\n",
        "print(\"Success average action : \" + str(sum(cntList) / NUM_EPISODES)) # 평균 액션 횟수\n",
        "\n",
        "#최종 route 출력\n",
        "print_str_direct(q_value)\n",
        "plt.bar(range(len(rList)), rList, color=\"blue\")\n",
        "plt.show()"
      ],
      "metadata": {
        "colab": {
          "base_uri": "https://localhost:8080/",
          "height": 394
        },
        "id": "gowetel9JoUX",
        "outputId": "9e877daf-fee7-4a89-d24d-50b52d7ff56f"
      },
      "execution_count": null,
      "outputs": [
        {
          "output_type": "stream",
          "name": "stdout",
          "text": [
            "Remove FrozenLake-v3 from registry\n",
            "Success rate: 0.921\n",
            "Success average action : 6.0865\n",
            "R | R | D |   | \n",
            "  |   | D |   | \n",
            "  |   | D |   | \n",
            "  |   | R |   | \n"
          ]
        },
        {
          "output_type": "display_data",
          "data": {
            "text/plain": [
              "<Figure size 432x288 with 1 Axes>"
            ],
            "image/png": "[encoded data removed]"
          },
          "metadata": {
            "needs_background": "light"
          }
        }
      ]
    },
    {
      "cell_type": "code",
      "source": [
        "env = get_env_register(ENV_ID)\n",
        "q_value, rList, cntList = do_qlearning_discounted_reward(env, NUM_EPISODES)\n",
        "\n",
        "print(\"Success rate: \" + str(sum(rList) / NUM_EPISODES))\n",
        "print(\"Success average action : \" + str(sum(cntList) / NUM_EPISODES)) # 평균 액션 횟수\n",
        "\n",
        "#최종 route 출력\n",
        "print_str_direct(q_value)\n",
        "plt.bar(range(len(rList)), rList, color=\"blue\")\n",
        "plt.show()"
      ],
      "metadata": {
        "colab": {
          "base_uri": "https://localhost:8080/",
          "height": 394
        },
        "id": "HshSBrIZKN-r",
        "outputId": "cb6e8e8c-3bae-43b7-ba83-d6be8d361812"
      },
      "execution_count": null,
      "outputs": [
        {
          "output_type": "stream",
          "name": "stdout",
          "text": [
            "Remove FrozenLake-v3 from registry\n",
            "Success rate: 0.972\n",
            "Success average action : 6.06\n",
            "R | R | D |   | \n",
            "  |   | D |   | \n",
            "  |   | D |   | \n",
            "  |   | R |   | \n"
          ]
        },
        {
          "output_type": "display_data",
          "data": {
            "text/plain": [
              "<Figure size 432x288 with 1 Axes>"
            ],
            "image/png": "[encoded data removed]"
          },
          "metadata": {
            "needs_background": "light"
          }
        }
      ]
    }
  ]
}